{
 "cells": [
  {
   "cell_type": "code",
   "execution_count": 1,
   "id": "910e15be",
   "metadata": {},
   "outputs": [],
   "source": [
    "import pandas as pd\n",
    "import numpy as np"
   ]
  },
  {
   "cell_type": "code",
   "execution_count": 2,
   "id": "ce596ebb",
   "metadata": {},
   "outputs": [],
   "source": [
    "# 1. Cargar el dataset\n",
    "\n",
    "df = pd.read_csv('Comprehensive_Banking_Database.csv')"
   ]
  },
  {
   "cell_type": "code",
   "execution_count": 3,
   "id": "0d889b0c",
   "metadata": {},
   "outputs": [
    {
     "name": "stdout",
     "output_type": "stream",
     "text": [
      "   Customer ID First Name Last Name  Age  Gender    Address           City  \\\n",
      "0            1     Joshua      Hall   45    Male  Address_1     Fort Worth   \n",
      "1            2       Mark    Taylor   47  Female  Address_2     Louisville   \n",
      "2            3     Joseph    Flores   25  Female  Address_3   Philadelphia   \n",
      "3            4      Kevin       Lee   52   Other  Address_4  Oklahoma City   \n",
      "4            5      Linda   Johnson   68   Other  Address_5        Phoenix   \n",
      "\n",
      "   Contact Number                  Email Account Type  ...  \\\n",
      "0     19458794854    joshua.hall@kag.com      Current  ...   \n",
      "1     19458794855    mark.taylor@kag.com      Current  ...   \n",
      "2     19458794856  joseph.flores@kag.com      Current  ...   \n",
      "3     19458794857      kevin.lee@kag.com      Savings  ...   \n",
      "4     19458794858  linda.johnson@kag.com      Savings  ...   \n",
      "\n",
      "   Credit Card Balance Minimum Payment Due Payment Due Date  \\\n",
      "0              4524.32              226.22       11/26/2023   \n",
      "1               856.70               42.84        11/5/2023   \n",
      "2              3242.36              162.12         1/8/2023   \n",
      "3              4329.17              216.46         9/8/2023   \n",
      "4                25.72                1.29         3/4/2023   \n",
      "\n",
      "   Last Credit Card Payment Date Rewards Points Feedback ID  Feedback Date  \\\n",
      "0                      3/20/2023           8142           1      10/6/2023   \n",
      "1                      6/16/2023           4306           2       4/7/2023   \n",
      "2                      3/20/2023           4842           3       9/7/2023   \n",
      "3                     10/15/2023           9463           4      5/28/2023   \n",
      "4                      7/27/2023           2209           5      2/12/2023   \n",
      "\n",
      "   Feedback Type  Resolution Status  Resolution Date  \n",
      "0     Suggestion           Resolved        1/22/2023  \n",
      "1      Complaint           Resolved        8/27/2023  \n",
      "2         Praise            Pending        5/11/2023  \n",
      "3      Complaint           Resolved         7/5/2023  \n",
      "4      Complaint           Resolved       11/21/2023  \n",
      "\n",
      "[5 rows x 39 columns]\n",
      "Index(['Customer ID', 'First Name', 'Last Name', 'Age', 'Gender', 'Address',\n",
      "       'City', 'Contact Number', 'Email', 'Account Type', 'Account Balance',\n",
      "       'Date Of Account Opening', 'Last Transaction Date', 'TransactionID',\n",
      "       'Transaction Date', 'Transaction Type', 'Transaction Amount',\n",
      "       'Account Balance After Transaction', 'Branch ID', 'Loan ID',\n",
      "       'Loan Amount', 'Loan Type', 'Interest Rate', 'Loan Term',\n",
      "       'Approval/Rejection Date', 'Loan Status', 'CardID', 'Card Type',\n",
      "       'Credit Limit', 'Credit Card Balance', 'Minimum Payment Due',\n",
      "       'Payment Due Date', 'Last Credit Card Payment Date', 'Rewards Points',\n",
      "       'Feedback ID', 'Feedback Date', 'Feedback Type', 'Resolution Status',\n",
      "       'Resolution Date'],\n",
      "      dtype='object')\n"
     ]
    }
   ],
   "source": [
    "# 2. Ver primeras filas y columnas\n",
    "print(df.head())\n",
    "print(df.columns)"
   ]
  },
  {
   "cell_type": "code",
   "execution_count": 4,
   "id": "04c21aaa",
   "metadata": {},
   "outputs": [],
   "source": [
    "# 3. Renombrar columnas (si tienen espacios o nombres feos)\n",
    "df.columns = df.columns.str.strip().str.lower().str.replace(' ', '_')"
   ]
  },
  {
   "cell_type": "code",
   "execution_count": 5,
   "id": "964edc21",
   "metadata": {},
   "outputs": [
    {
     "data": {
      "text/plain": [
       "customer_id                            int64\n",
       "first_name                            object\n",
       "last_name                             object\n",
       "age                                    int64\n",
       "gender                                object\n",
       "address                               object\n",
       "city                                  object\n",
       "contact_number                         int64\n",
       "email                                 object\n",
       "account_type                          object\n",
       "account_balance                      float64\n",
       "date_of_account_opening               object\n",
       "last_transaction_date                 object\n",
       "transactionid                          int64\n",
       "transaction_date                      object\n",
       "transaction_type                      object\n",
       "transaction_amount                   float64\n",
       "account_balance_after_transaction    float64\n",
       "branch_id                              int64\n",
       "loan_id                                int64\n",
       "loan_amount                          float64\n",
       "loan_type                             object\n",
       "interest_rate                        float64\n",
       "loan_term                              int64\n",
       "approval/rejection_date               object\n",
       "loan_status                           object\n",
       "cardid                                 int64\n",
       "card_type                             object\n",
       "credit_limit                         float64\n",
       "credit_card_balance                  float64\n",
       "minimum_payment_due                  float64\n",
       "payment_due_date                      object\n",
       "last_credit_card_payment_date         object\n",
       "rewards_points                         int64\n",
       "feedback_id                            int64\n",
       "feedback_date                         object\n",
       "feedback_type                         object\n",
       "resolution_status                     object\n",
       "resolution_date                       object\n",
       "dtype: object"
      ]
     },
     "execution_count": 5,
     "metadata": {},
     "output_type": "execute_result"
    }
   ],
   "source": [
    "# 4. Revisar tipos de datos\n",
    "df.dtypes"
   ]
  },
  {
   "cell_type": "code",
   "execution_count": 7,
   "id": "38026d6e",
   "metadata": {},
   "outputs": [],
   "source": [
    "# 5. Convertir fechas si hay columna de fecha o de año+trimestre\n",
    "# Si tienes 'year' y 'quarter', puedes crear una columna de fecha aproximada:\n",
    "if 'year' in df.columns and 'quarter' in df.columns:\n",
    "    df['period'] = df['year'].astype(str) + 'Q' + df['quarter'].astype(str)\n",
    "    df['period'] = pd.PeriodIndex(df['period'], freq='Q').to_timestamp()"
   ]
  },
  {
   "cell_type": "code",
   "execution_count": 8,
   "id": "cae141d2",
   "metadata": {},
   "outputs": [],
   "source": [
    "# 6. Eliminar duplicados\n",
    "df = df.drop_duplicates()"
   ]
  },
  {
   "cell_type": "code",
   "execution_count": 9,
   "id": "779a9ae4",
   "metadata": {},
   "outputs": [],
   "source": [
    "# 7. Eliminar filas completamente vacías\n",
    "df = df.dropna(how='all')"
   ]
  },
  {
   "cell_type": "code",
   "execution_count": 10,
   "id": "ec448945",
   "metadata": {},
   "outputs": [],
   "source": [
    "# 8. Revisar y eliminar columnas con muchos NA (si es el caso)\n",
    "na_percent = df.isnull().mean()\n",
    "df = df.loc[:, na_percent < 0.5]  # elimina columnas con más de 50% de NA"
   ]
  },
  {
   "cell_type": "code",
   "execution_count": 11,
   "id": "f1027683",
   "metadata": {},
   "outputs": [],
   "source": [
    "# 9. Rellenar o eliminar NAs restantes según lógica\n",
    "df = df.dropna()  # o usa df.fillna(0) o df.fillna(method='ffill')"
   ]
  },
  {
   "cell_type": "code",
   "execution_count": 13,
   "id": "f8720f90",
   "metadata": {},
   "outputs": [],
   "source": [
    "# 10. Crear columnas con KPIs\n",
    "# Asegúrate de que existan estas columnas, si no cámbialas según tu dataset\n",
    "if {'net_income', 'equity', 'total_assets'}.issubset(df.columns):\n",
    "    df['roe'] = df['net_income'] / df['equity']\n",
    "    df['roa'] = df['net_income'] / df['total_assets']"
   ]
  },
  {
   "cell_type": "code",
   "execution_count": 16,
   "id": "79053dcc",
   "metadata": {},
   "outputs": [],
   "source": [
    "# Convertir columnas a tipo fecha\n",
    "fecha_cols = [\n",
    "    'date_of_account_opening',\n",
    "    'last_transaction_date',\n",
    "    'transaction_date',\n",
    "    'approval/rejection_date',\n",
    "    'payment_due_date',\n",
    "    'last_credit_card_payment_date',\n",
    "    'feedback_date',\n",
    "    'resolution_date'\n",
    "]\n",
    "\n",
    "for col in fecha_cols:\n",
    "    df[col] = pd.to_datetime(df[col], errors='coerce')  # convierte o pone NaT si falla\n",
    "\n",
    "# Guardar nuevo CSV listo para Power BI\n",
    "# Guardar en el mismo directorio del script\n",
    "df.to_csv(\"banking_dataset_fechas_convertidas.csv\", index=False)\n",
    "\n"
   ]
  },
  {
   "cell_type": "code",
   "execution_count": null,
   "id": "068ee824",
   "metadata": {},
   "outputs": [
    {
     "name": "stdout",
     "output_type": "stream",
     "text": [
      "✅ Dataset limpio exportado como 'banking_dataset_limpio.csv'\n"
     ]
    }
   ],
   "source": []
  }
 ],
 "metadata": {
  "kernelspec": {
   "display_name": "base",
   "language": "python",
   "name": "python3"
  },
  "language_info": {
   "codemirror_mode": {
    "name": "ipython",
    "version": 3
   },
   "file_extension": ".py",
   "mimetype": "text/x-python",
   "name": "python",
   "nbconvert_exporter": "python",
   "pygments_lexer": "ipython3",
   "version": "3.12.7"
  }
 },
 "nbformat": 4,
 "nbformat_minor": 5
}
